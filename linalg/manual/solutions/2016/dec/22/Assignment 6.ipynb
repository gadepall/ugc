{
 "cells": [
  {
   "cell_type": "code",
   "execution_count": 9,
   "metadata": {},
   "outputs": [
    {
     "name": "stdout",
     "output_type": "stream",
     "text": [
      "Yes, The matrix is positive definite\n"
     ]
    }
   ],
   "source": [
    "import numpy as np\n",
    "\n",
    "def is_pd(A):\n",
    "    try:\n",
    "        np.linalg.cholesky(A)\n",
    "        return 'Yes, The matrix is positive definite'\n",
    "    except np.linalg.linalg.LinAlgError as err:\n",
    "        if 'The matrix is not positive definite' in err.message:\n",
    "            return 0\n",
    "        else:\n",
    "            raise\n",
    "A = [[3 ,-1 ,0],[-1 ,2 ,-1],[0 ,-1 ,3]]\n",
    "k = is_pd(A)\n",
    "print(k)"
   ]
  },
  {
   "cell_type": "code",
   "execution_count": null,
   "metadata": {},
   "outputs": [],
   "source": []
  }
 ],
 "metadata": {
  "kernelspec": {
   "display_name": "Python 3",
   "language": "python",
   "name": "python3"
  },
  "language_info": {
   "codemirror_mode": {
    "name": "ipython",
    "version": 3
   },
   "file_extension": ".py",
   "mimetype": "text/x-python",
   "name": "python",
   "nbconvert_exporter": "python",
   "pygments_lexer": "ipython3",
   "version": "3.7.3"
  }
 },
 "nbformat": 4,
 "nbformat_minor": 4
}
